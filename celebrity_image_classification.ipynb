{
  "nbformat": 4,
  "nbformat_minor": 0,
  "metadata": {
    "colab": {
      "provenance": [],
      "authorship_tag": "ABX9TyPtKqUhMcI4QU66M8Fb6Tm8",
      "include_colab_link": true
    },
    "kernelspec": {
      "name": "python3",
      "display_name": "Python 3"
    },
    "language_info": {
      "name": "python"
    }
  },
  "cells": [
    {
      "cell_type": "markdown",
      "metadata": {
        "id": "view-in-github",
        "colab_type": "text"
      },
      "source": [
        "<a href=\"https://colab.research.google.com/github/nishanahafsath/DeepLearning/blob/main/celebrity_image_classification.ipynb\" target=\"_parent\"><img src=\"https://colab.research.google.com/assets/colab-badge.svg\" alt=\"Open In Colab\"/></a>"
      ]
    },
    {
      "cell_type": "code",
      "execution_count": 1,
      "metadata": {
        "id": "Ybcg6n48OYfj"
      },
      "outputs": [],
      "source": [
        "import tensorflow as tf\n",
        "from tensorflow.keras import layers, models\n",
        "from tensorflow.keras.preprocessing.image import ImageDataGenerator\n",
        "from sklearn.metrics import accuracy_score, precision_score, recall_score, f1_score\n",
        "\n",
        "\n",
        "\n"
      ]
    },
    {
      "cell_type": "code",
      "source": [
        "# Set the dimensions of your input images\n",
        "height, width, channels = 64, 64, 3  # Adjust as needed\n",
        "\n",
        "# Define data generators for training and validation\n",
        "train_datagen = ImageDataGenerator(\n",
        "    rescale=1./255,\n",
        "    shear_range=0.2,\n",
        "    zoom_range=0.2,\n",
        "    horizontal_flip=True\n",
        ")\n",
        "\n",
        "val_datagen = ImageDataGenerator(rescale=1./255)\n",
        "\n",
        "# Specify the path to your dataset and the dimensions of your images\n",
        "train_generator = train_datagen.flow_from_directory(\n",
        "    '/content/drive/MyDrive/datasets/Dataset_Celebrities/cropped',\n",
        "    target_size=(height, width),\n",
        "    batch_size=32,\n",
        "    class_mode='categorical'  # Multi-class classification (celebrity names)\n",
        ")\n",
        "\n",
        "val_generator = val_datagen.flow_from_directory(\n",
        "    '/content/drive/MyDrive/datasets/Dataset_Celebrities/cropped',\n",
        "    target_size=(height, width),\n",
        "    batch_size=32,\n",
        "    class_mode='categorical'\n",
        ")"
      ],
      "metadata": {
        "colab": {
          "base_uri": "https://localhost:8080/"
        },
        "id": "OGCLUptyRyfQ",
        "outputId": "0f5d95fc-5eb7-4ef4-dd2d-372f27b6dc5e"
      },
      "execution_count": 2,
      "outputs": [
        {
          "output_type": "stream",
          "name": "stdout",
          "text": [
            "Found 168 images belonging to 5 classes.\n",
            "Found 168 images belonging to 5 classes.\n"
          ]
        }
      ]
    },
    {
      "cell_type": "code",
      "source": [
        "# Create the model\n",
        "def create_model(input_shape, num_classes):\n",
        "    model = models.Sequential()\n",
        "\n",
        "    model.add(layers.Conv2D(32, (3, 3), activation='relu', input_shape=input_shape))\n",
        "    model.add(layers.MaxPooling2D((2, 2)))\n",
        "\n",
        "    model.add(layers.Conv2D(64, (3, 3), activation='relu'))\n",
        "    model.add(layers.MaxPooling2D((2, 2)))\n",
        "\n",
        "    model.add(layers.Conv2D(128, (3, 3), activation='relu'))\n",
        "    model.add(layers.MaxPooling2D((2, 2)))\n",
        "\n",
        "    model.add(layers.Flatten())\n",
        "    model.add(layers.Dense(128, activation='relu'))\n",
        "    model.add(layers.Dense(num_classes, activation='softmax'))  # Multi-class classification\n",
        "\n",
        "    return model\n",
        "\n",
        "# Get the number of classes from your dataset\n",
        "num_classes = len(train_generator.class_indices)\n",
        "\n",
        "# Create the model\n",
        "model = create_model((height, width, channels), num_classes)\n",
        "\n",
        "# Compile the model\n",
        "model.compile(optimizer=tf.keras.optimizers.Adam(learning_rate=1e-3),\n",
        "              loss='categorical_crossentropy',\n",
        "              metrics=['accuracy'])\n",
        "\n",
        "# Train the model\n",
        "history = model.fit(train_generator, epochs=10, validation_data=val_generator)\n",
        "\n",
        "# Evaluate the model on the validation dataset\n",
        "val_accuracy = model.evaluate(val_generator)[1]\n",
        "print(f'Validation Accuracy: {val_accuracy}')\n",
        "\n",
        "# Evaluation Metrics\n",
        "def evaluate_model(model, generator):\n",
        "    y_true = generator.classes\n",
        "    y_pred_probs = model.predict(generator)\n",
        "    y_pred = tf.argmax(y_pred_probs, axis=1)\n",
        "\n",
        "    accuracy = accuracy_score(y_true, y_pred)\n",
        "    precision = precision_score(y_true, y_pred, average='weighted')\n",
        "    recall = recall_score(y_true, y_pred, average='weighted')\n",
        "    f1 = f1_score(y_true, y_pred, average='weighted')\n",
        "\n",
        "    return accuracy, precision, recall, f1\n",
        "\n",
        "# Evaluate the model on the validation dataset using custom evaluation function\n",
        "accuracy, precision, recall, f1 = evaluate_model(model, val_generator)\n",
        "\n",
        "print(f'Accuracy: {accuracy}, Precision: {precision}, Recall: {recall}, F1: {f1}')\n"
      ],
      "metadata": {
        "colab": {
          "base_uri": "https://localhost:8080/"
        },
        "id": "0rAsa_VpR6Ak",
        "outputId": "d85dd9ef-2972-424e-eb75-7e8d09d9786c"
      },
      "execution_count": 3,
      "outputs": [
        {
          "output_type": "stream",
          "name": "stdout",
          "text": [
            "Epoch 1/10\n",
            "6/6 [==============================] - 7s 1s/step - loss: 1.5984 - accuracy: 0.2143 - val_loss: 1.5941 - val_accuracy: 0.2440\n",
            "Epoch 2/10\n",
            "6/6 [==============================] - 6s 981ms/step - loss: 1.5908 - accuracy: 0.2440 - val_loss: 1.5389 - val_accuracy: 0.2440\n",
            "Epoch 3/10\n",
            "6/6 [==============================] - 6s 1s/step - loss: 1.5293 - accuracy: 0.2679 - val_loss: 1.4614 - val_accuracy: 0.3750\n",
            "Epoch 4/10\n",
            "6/6 [==============================] - 7s 1s/step - loss: 1.4109 - accuracy: 0.5179 - val_loss: 1.3556 - val_accuracy: 0.5595\n",
            "Epoch 5/10\n",
            "6/6 [==============================] - 3s 560ms/step - loss: 1.2443 - accuracy: 0.6190 - val_loss: 1.1173 - val_accuracy: 0.4762\n",
            "Epoch 6/10\n",
            "6/6 [==============================] - 4s 676ms/step - loss: 1.0656 - accuracy: 0.5952 - val_loss: 0.9105 - val_accuracy: 0.7262\n",
            "Epoch 7/10\n",
            "6/6 [==============================] - 3s 559ms/step - loss: 0.8277 - accuracy: 0.7500 - val_loss: 0.5452 - val_accuracy: 0.8929\n",
            "Epoch 8/10\n",
            "6/6 [==============================] - 3s 549ms/step - loss: 0.6039 - accuracy: 0.8036 - val_loss: 0.3793 - val_accuracy: 0.9226\n",
            "Epoch 9/10\n",
            "6/6 [==============================] - 4s 796ms/step - loss: 0.4359 - accuracy: 0.8810 - val_loss: 0.3789 - val_accuracy: 0.8869\n",
            "Epoch 10/10\n",
            "6/6 [==============================] - 4s 649ms/step - loss: 0.3918 - accuracy: 0.8750 - val_loss: 0.3285 - val_accuracy: 0.9226\n",
            "6/6 [==============================] - 1s 164ms/step - loss: 0.3285 - accuracy: 0.9226\n",
            "Validation Accuracy: 0.9226190447807312\n",
            "6/6 [==============================] - 1s 157ms/step\n",
            "Accuracy: 0.16666666666666666, Precision: 0.1731794030933199, Recall: 0.16666666666666666, F1: 0.16956893194988437\n"
          ]
        }
      ]
    },
    {
      "cell_type": "code",
      "source": [
        "class_report = evaluate_model(model, val_generator)"
      ],
      "metadata": {
        "colab": {
          "base_uri": "https://localhost:8080/"
        },
        "id": "cVbtLrwlRXcn",
        "outputId": "da77f085-0b3e-4512-ffaa-43280689c183"
      },
      "execution_count": 4,
      "outputs": [
        {
          "output_type": "stream",
          "name": "stdout",
          "text": [
            "6/6 [==============================] - 1s 170ms/step\n"
          ]
        }
      ]
    },
    {
      "cell_type": "code",
      "source": [
        "print('Classification Report:\\n', class_report)\n",
        "\n"
      ],
      "metadata": {
        "colab": {
          "base_uri": "https://localhost:8080/"
        },
        "id": "sGCaEug2RHeO",
        "outputId": "2fdc78d1-6302-4507-cd8b-cfc803b1a95d"
      },
      "execution_count": 5,
      "outputs": [
        {
          "output_type": "stream",
          "name": "stdout",
          "text": [
            "Classification Report:\n",
            " (0.19047619047619047, 0.18960478187522664, 0.19047619047619047, 0.1895069745069745)\n"
          ]
        }
      ]
    },
    {
      "cell_type": "code",
      "source": [
        "import matplotlib.pyplot as plt"
      ],
      "metadata": {
        "id": "cwag2LPxRetX"
      },
      "execution_count": 6,
      "outputs": []
    },
    {
      "cell_type": "code",
      "source": [
        "# Plot training history\n",
        "def plot_history(history):\n",
        "    plt.plot(history.history['accuracy'], label='Training Accuracy')\n",
        "    plt.plot(history.history['val_accuracy'], label='Validation Accuracy')\n",
        "    plt.title('Training and Validation Accuracy')\n",
        "    plt.xlabel('Epoch')\n",
        "    plt.ylabel('Accuracy')\n",
        "    plt.legend()\n",
        "    plt.show()\n",
        "\n",
        "plot_history(history)\n"
      ],
      "metadata": {
        "colab": {
          "base_uri": "https://localhost:8080/",
          "height": 472
        },
        "id": "djbuzHbGRJtm",
        "outputId": "60e15a11-1f7a-45d1-d6f9-1d738586be96"
      },
      "execution_count": 7,
      "outputs": [
        {
          "output_type": "display_data",
          "data": {
            "text/plain": [
              "<Figure size 640x480 with 1 Axes>"
            ],
            "image/png": "[encoded data removed]"
          },
          "metadata": {}
        }
      ]
    },
    {
      "cell_type": "code",
      "source": [
        "\n",
        "# Save the trained model\n",
        "model.save('celebrity_classifier_model.h5')"
      ],
      "metadata": {
        "colab": {
          "base_uri": "https://localhost:8080/"
        },
        "id": "dzzsSLi7Rdlv",
        "outputId": "e8933a7d-3ddd-4418-cdf7-97eded44e0fd"
      },
      "execution_count": 8,
      "outputs": [
        {
          "output_type": "stream",
          "name": "stderr",
          "text": [
            "/usr/local/lib/python3.10/dist-packages/keras/src/engine/training.py:3079: UserWarning: You are saving your model as an HDF5 file via `model.save()`. This file format is considered legacy. We recommend using instead the native Keras format, e.g. `model.save('my_model.keras')`.\n",
            "  saving_api.save_model(\n"
          ]
        }
      ]
    },
    {
      "cell_type": "code",
      "source": [],
      "metadata": {
        "id": "xZO9JilRRtaA"
      },
      "execution_count": 8,
      "outputs": []
    }
  ]
}